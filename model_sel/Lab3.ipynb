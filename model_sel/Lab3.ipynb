{
 "cells": [
  {
   "cell_type": "markdown",
   "metadata": {},
   "source": [
    "# Lab:  Model Selection for Neural Data\n",
    "\n",
    "Machine learning is a key tool for neuroscientists to understand how sensory and motor signals are encoded in the brain. In addition to improving our scientific understanding of neural phenomena, understanding neural encoding is critical for brain machine interfaces. In this lab, you will use model selection for performing some simple analysis on real neural signals. \n",
    "\n",
    "Before doing this lab, you should review the ideas in the [polynomial model selection demo](./polyfit.ipynb).  In addition to the concepts in that demo, you will learn to:\n",
    "* Load MATLAB data\n",
    "* Formulate models of different complexities using heuristic model selection\n",
    "* Fit a linear model for the different model orders\n",
    "* Select the optimal model via cross-validation\n",
    "\n",
    "The last stage of the lab uses LASSO estimation for model selection.  If you are doing this part of the lab, you should review the concepts in [LASSO demonstration](./prostate.ipynb) on the prostate cancer  dataset.  "
   ]
  },
  {
   "cell_type": "markdown",
   "metadata": {},
   "source": [
    "## Loading the data\n",
    "\n",
    "The data in this lab comes from neural recordings described in:\n",
    "\n",
    "<a href=\"http://jn.physiology.org/content/106/2/764.short\">\n",
    "Stevenson, Ian H., et al. \"Statistical assessment of the stability of neural movement representations.\" Journal of neurophysiology 106.2 (2011): 764-774</a>\n",
    "\n",
    "Neurons are the basic information processing units in the brain.  Neurons communicate with one another via *spikes* or *action potentials* which are brief events where voltage in the neuron rapidly rises then falls.  These spikes trigger the electro-chemical signals between one neuron and another.  In this experiment, the spikes were recorded from 196 neurons in the primary motor cortex (M1) of a monkey using an electrode array implanted onto the surface of a monkey's brain.  During the recording, the monkey performed several reaching tasks and the position and velocity of the hand was recorded as well.  \n",
    "\n",
    "The goal of the experiment is to try to *read the monkey's brain*:  That is, predict the hand motion from the neural signals from the motor cortex.\n",
    "\n",
    "We first load the basic packages."
   ]
  },
  {
   "cell_type": "code",
   "execution_count": 1,
   "metadata": {
    "collapsed": true
   },
   "outputs": [],
   "source": [
    "import numpy as np\n",
    "import matplotlib\n",
    "import matplotlib.pyplot as plt\n",
    "%matplotlib inline"
   ]
  },
  {
   "cell_type": "markdown",
   "metadata": {},
   "source": [
    "The full data is available on the CRCNS website  http://crcns.org/data-sets/movements/dream.  This website has a large number of great datasets and can be used for projects as well.  To make this lab easier, I have pre-processed the data slightly and placed it in the file `StevensonV2.mat`, which is a MATLAB file.  You will need to have this file downloaded in the directory you are working on.\n",
    "\n",
    "Since MATLAB is widely-used, `python` provides method for loading MATLAB `mat` files.  We can use these commands to load the data as follows."
   ]
  },
  {
   "cell_type": "code",
   "execution_count": 2,
   "metadata": {
    "collapsed": false
   },
   "outputs": [],
   "source": [
    "import scipy.io\n",
    "mat_dict = scipy.io.loadmat('StevensonV2.mat')"
   ]
  },
  {
   "cell_type": "markdown",
   "metadata": {},
   "source": [
    "The returned structure, `mat_dict`, is a dictionary with each of the MATLAB variables that were saved in the `.mat` file.  Use the `.keys()` method to list all the variables."
   ]
  },
  {
   "cell_type": "code",
   "execution_count": 3,
   "metadata": {
    "collapsed": false
   },
   "outputs": [
    {
     "data": {
      "text/plain": [
       "dict_keys(['targets', 'handPos', 'startBinned', 'handVel', '__header__', 'timeBase', '__globals__', 'startBins', 'spikes', 'time', 'target', 'Publication', '__version__'])"
      ]
     },
     "execution_count": 3,
     "metadata": {},
     "output_type": "execute_result"
    }
   ],
   "source": [
    "mat_dict.keys()"
   ]
  },
  {
   "cell_type": "markdown",
   "metadata": {},
   "source": [
    "We extract two variables, `spikes` and `handVel`, from the dictionary `mat_dict`, which represent the recorded spikes per neuron and the hand velocity.  We take the transpose of the spikes data so that it is in the form time bins $\\times$ number of neurons.  For the `handVel` data, we take the first component which is the motion in the $x$-direction."
   ]
  },
  {
   "cell_type": "code",
   "execution_count": 4,
   "metadata": {
    "collapsed": false
   },
   "outputs": [],
   "source": [
    "X0 = mat_dict['spikes'].T\n",
    "y0 = mat_dict['handVel'][0,:]"
   ]
  },
  {
   "cell_type": "markdown",
   "metadata": {},
   "source": [
    "The `spikes` matrix will be a `nt x nneuron` matrix where `nt` is the number of time bins and `nneuron` is the number of neurons.  Each entry `spikes[k,j]` is the number of spikes in time bin `k` from neuron `j`.  Use the `shape` method to find `nt` and `nneuron` and print the values."
   ]
  },
  {
   "cell_type": "code",
   "execution_count": 5,
   "metadata": {
    "collapsed": false
   },
   "outputs": [
    {
     "name": "stdout",
     "output_type": "stream",
     "text": [
      "The value of nt is 15536\n",
      "The value of nneuron is 196\n"
     ]
    }
   ],
   "source": [
    "nt = X0.shape[0]\n",
    "nneuron = X0.shape[1]\n",
    "print(\"The value of nt is {0}\".format(nt))\n",
    "print(\"The value of nneuron is {0}\".format(nneuron))"
   ]
  },
  {
   "cell_type": "markdown",
   "metadata": {},
   "source": [
    "Now extract the `time` variable from the `mat_dict` dictionary.  Reshape this to a 1D array with `nt` components.  Each entry `time[k]` is the starting time of the time bin `k`.  Find the sampling time `tsamp` which is the time between measurements, and `ttotal` which is the total duration of the recording."
   ]
  },
  {
   "cell_type": "code",
   "execution_count": 6,
   "metadata": {
    "collapsed": false
   },
   "outputs": [
    {
     "name": "stdout",
     "output_type": "stream",
     "text": [
      "ttotal = 776.750000\n",
      "tsamp = 0.050000\n"
     ]
    }
   ],
   "source": [
    "time = np.reshape(mat_dict['time'],nt)\n",
    "ttotal = time[-1] - time[0]\n",
    "tsamp = ttotal/(nt-1)\n",
    "print(\"ttotal = %f\" % ttotal)\n",
    "print(\"tsamp = %f\" % tsamp)"
   ]
  },
  {
   "cell_type": "markdown",
   "metadata": {},
   "source": [
    "## Linear fitting on all the neurons\n",
    "\n",
    "First divide the data into training and test with approximately half the samples in each.  Let `Xtr` and `ytr` denote the training data and `Xts` and `yts` denote the test data."
   ]
  },
  {
   "cell_type": "code",
   "execution_count": 7,
   "metadata": {
    "collapsed": false
   },
   "outputs": [],
   "source": [
    "Xtr = X0[:nt//2]\n",
    "ytr = y0[:nt//2]\n",
    "Xts = X0[nt//2:]\n",
    "yts = y0[nt//2:]"
   ]
  },
  {
   "cell_type": "markdown",
   "metadata": {},
   "source": [
    "Now, we begin by trying to fit a simple linear model using *all* the neurons as predictors.  To this end, use the `sklearn.linear_model` package to create a regression object, and fit the linear model to the training data."
   ]
  },
  {
   "cell_type": "code",
   "execution_count": 8,
   "metadata": {
    "collapsed": false
   },
   "outputs": [],
   "source": [
    "import sklearn.linear_model\n",
    "regr = sklearn.linear_model.LinearRegression()\n",
    "regr.fit(Xtr,ytr)\n",
    "yts_pre = regr.predict(Xts)"
   ]
  },
  {
   "cell_type": "markdown",
   "metadata": {},
   "source": [
    "Measure and print the normalized RSS on the test data.  "
   ]
  },
  {
   "cell_type": "code",
   "execution_count": 9,
   "metadata": {
    "collapsed": false
   },
   "outputs": [
    {
     "name": "stdout",
     "output_type": "stream",
     "text": [
      "Normalized RSS=4999054779645876502528.000000\n"
     ]
    }
   ],
   "source": [
    "RSS = np.mean((yts_pre-yts)**2)/(np.std(yts)**2)\n",
    "print(\"Normalized RSS={0:f}\".format(RSS))"
   ]
  },
  {
   "cell_type": "markdown",
   "metadata": {},
   "source": [
    "You should see that the test error is enormous -- the model does not generalize to the test data at all. "
   ]
  },
  {
   "cell_type": "markdown",
   "metadata": {},
   "source": [
    "## Linear Fitting  with Heuristic Model Selection\n",
    "\n",
    "The above shows that we need a way to reduce the model complexity.  One simple idea is to select only the neurons that individually have a high correlation with the output.   \n",
    "\n",
    "Write code which computes the coefficient of determination, $R^2_k$, for each neuron $k$.  Plot the $R^2_k$ values.  \n",
    "\n",
    "You can use a for loop over each neuron, but if you want to make efficient code try to avoid the for loop and use [python broadcasting](../Basics/numpy_axes_broadcasting.ipynb)."
   ]
  },
  {
   "cell_type": "code",
   "execution_count": 10,
   "metadata": {
    "collapsed": false
   },
   "outputs": [
    {
     "data": {
      "image/png": "[encoded data removed]",
      "text/plain": [
       "<matplotlib.figure.Figure at 0x27f847df4e0>"
      ]
     },
     "metadata": {},
     "output_type": "display_data"
    }
   ],
   "source": [
    "ybar = np.mean(y0)\n",
    "syy = np.mean((y0-ybar)**2)\n",
    "Rsq = np.zeros(nneuron)\n",
    "for i in range(nneuron):\n",
    "    xbar = np.mean(X0[:,i])\n",
    "    sxx = np.mean((X0[:,i]-xbar)**2)\n",
    "    sxy = np.mean((X0[:,i]-xbar)*(y0-ybar))\n",
    "    if sxx == 0: Rsq[i] = 0\n",
    "    else: Rsq[i] = sxy**2/sxx/syy\n",
    "    #print(\"{0:2d} {1:f}\".format(i,Rsq[i]))\n",
    "plt.stem(Rsq)\n",
    "plt.grid()"
   ]
  },
  {
   "cell_type": "markdown",
   "metadata": {},
   "source": [
    "We see that many neurons have low correlation and can probably be discarded from the model.    \n",
    "\n",
    "Use the `np.argsort()` command to find the indices of the `d=100` neurons with the highest $R^2_k$ value.  Put the `d` indices into an array `Isel`.  Print the indices of the neurons with the 10 highest correlations."
   ]
  },
  {
   "cell_type": "code",
   "execution_count": 11,
   "metadata": {
    "collapsed": false,
    "scrolled": false
   },
   "outputs": [
    {
     "name": "stdout",
     "output_type": "stream",
     "text": [
      "The neurons with the ten highest R^2 values =  [193  98 195 120  67 136 153 152  58 192]\n"
     ]
    }
   ],
   "source": [
    "d = 100  # Number of neurons to useplt.plot(t,ytest)\n",
    "#plt.plot(time//2,yts_pre)\n",
    "#plt.show()\n",
    "sort = np.argsort(-Rsq)\n",
    "Isel = sort[:d]\n",
    "print(\"The neurons with the ten highest R^2 values = \",(np.argsort(Rsq)[-10:]))"
   ]
  },
  {
   "cell_type": "markdown",
   "metadata": {},
   "source": [
    "Fit a model using only the `d` neurons selected in the previous step and print both the test RSS per sample and the normalized test RSS."
   ]
  },
  {
   "cell_type": "code",
   "execution_count": 12,
   "metadata": {
    "collapsed": false
   },
   "outputs": [
    {
     "name": "stdout",
     "output_type": "stream",
     "text": [
      "Normalized RSS=0.496102\n",
      "RSS per sample=0.001572\n"
     ]
    }
   ],
   "source": [
    "regr.fit(Xtr[:,Isel],ytr)\n",
    "yts_pre = regr.predict(Xts[:,Isel])\n",
    "RSS_norm = np.mean((yts_pre-yts)**2)/(np.std(yts)**2)\n",
    "RSS_test = np.mean((yts_pre-yts)**2)\n",
    "print(\"Normalized RSS={0:f}\".format(RSS_norm))\n",
    "print(\"RSS per sample={0:f}\".format(RSS_test))"
   ]
  },
  {
   "cell_type": "markdown",
   "metadata": {},
   "source": [
    "Create a scatter plot of the predicted vs. actual hand motion on the test data.  On the same plot, plot the line where `yts_hat = yts`."
   ]
  },
  {
   "cell_type": "code",
   "execution_count": 13,
   "metadata": {
    "collapsed": false
   },
   "outputs": [
    {
     "data": {
      "image/png": "[encoded data removed]",
      "text/plain": [
       "<matplotlib.figure.Figure at 0x1835f3ccba8>"
      ]
     },
     "metadata": {},
     "output_type": "display_data"
    }
   ],
   "source": [
    "plt.plot([-0.25,0.125],[-0.25,0.125],'r-',linewidth=3)\n",
    "plt.scatter(yts_pre,yts)\n",
    "plt.grid()"
   ]
  },
  {
   "cell_type": "markdown",
   "metadata": {},
   "source": [
    "## Using K-fold cross validation for the optimal number of neurons\n",
    "\n",
    "In the above, we fixed `d=100`.  We can use cross validation to try to determine the best number of neurons to use.  Try model orders with `d=10,20,...,190`.  For each value of `d`, use K-fold validation with 10 folds to estimate the test RSS.  For a data set this size, each fold will take a few seconds to compute, so it may be useful to print the progress."
   ]
  },
  {
   "cell_type": "code",
   "execution_count": 15,
   "metadata": {
    "collapsed": false
   },
   "outputs": [],
   "source": [
    "import sklearn.model_selection \n",
    "\n",
    "# Create a k-fold object\n",
    "nfold = 10\n",
    "kf = sklearn.model_selection.KFold(n_splits=nfold,shuffle=True)\n",
    "\n",
    "# Model orders to be tested\n",
    "dtest = np.arange(10,200,10)\n",
    "nd = len(dtest)\n",
    "\n",
    "# Loop over the folds\n",
    "RSSts = np.zeros((nd,nfold))\n",
    "for isplit, Ind in enumerate(kf.split(X0)):\n",
    "    \n",
    "    # Get the training data in the split\n",
    "    Itr, Its = Ind\n",
    "    xtr = X0[Itr]\n",
    "    ytr = y0[Itr]\n",
    "    xts = X0[Its]\n",
    "    yts = y0[Its]\n",
    "    \n",
    "    for it, d in enumerate(dtest):\n",
    "        \n",
    "        # Fit data on training data\n",
    "        regr.fit(xtr[:,sort[:d]],ytr)\n",
    "        # Measures RSS on test data\n",
    "        yhat = regr.predict(xts[:,sort[:d]])\n",
    "        RSSts[it,isplit] = np.mean((yhat-yts)**2)"
   ]
  },
  {
   "cell_type": "markdown",
   "metadata": {},
   "source": [
    "Compute the RSS test mean and standard error and plot them as a function of the model order `d` using the `plt.errorbar()` method. "
   ]
  },
  {
   "cell_type": "code",
   "execution_count": 16,
   "metadata": {
    "collapsed": false,
    "scrolled": true
   },
   "outputs": [
    {
     "data": {
      "image/png": "[encoded data removed]",
      "text/plain": [
       "<matplotlib.figure.Figure at 0x1835fe56940>"
      ]
     },
     "metadata": {},
     "output_type": "display_data"
    }
   ],
   "source": [
    "RSS_mean = np.mean(RSSts,axis=1)\n",
    "RSS_std = np.std(RSSts,axis=1)/np.sqrt(nfold-1)\n",
    "plt.errorbar(dtest, RSS_mean, yerr=RSS_std, fmt='-o')\n",
    "plt.xlabel('Model order')\n",
    "plt.ylabel('Test RSS')\n",
    "plt.grid()"
   ]
  },
  {
   "cell_type": "markdown",
   "metadata": {},
   "source": [
    "Find the optimal order using the one standard error rule. Print the optimal value of `d` and the mean test RSS per sample at the optimal `d`.  "
   ]
  },
  {
   "cell_type": "code",
   "execution_count": 17,
   "metadata": {
    "collapsed": false,
    "scrolled": true
   },
   "outputs": [
    {
     "name": "stdout",
     "output_type": "stream",
     "text": [
      "Optimal d = 90\n",
      "Mean test RSS per sample at the optimal d = 0.001522\n"
     ]
    }
   ],
   "source": [
    "imin = np.argmin(RSS_mean)\n",
    "RSS_tgt = RSS_mean[imin] + RSS_std[imin]\n",
    "I = np.where(RSS_mean <= RSS_tgt)[0]\n",
    "iopt = I[0]\n",
    "dopt = dtest[iopt]\n",
    "print(\"Optimal d = %d\" % dopt)\n",
    "print(\"Mean test RSS per sample at the optimal d = %f\" % RSS_mean[iopt])"
   ]
  },
  {
   "cell_type": "markdown",
   "metadata": {},
   "source": [
    "## Using LASSO regression\n",
    "\n",
    "Instead of using the above heuristic to select the variables, we can use LASSO regression.  \n",
    "\n",
    "First use the `preprocessing.scale` method to standardize the data matrix `X0`.  Store the standardized values in `Xs`.  You do not need to standardize the response.  For this data, the `scale` routine may throw a warning that you are converting data types.  That is fine."
   ]
  },
  {
   "cell_type": "code",
   "execution_count": 18,
   "metadata": {
    "collapsed": false
   },
   "outputs": [
    {
     "name": "stderr",
     "output_type": "stream",
     "text": [
      "C:\\Users\\lin_w\\Anaconda3\\lib\\site-packages\\sklearn\\utils\\validation.py:444: DataConversionWarning: Data with input dtype uint8 was converted to float64 by the scale function.\n",
      "  warnings.warn(msg, DataConversionWarning)\n"
     ]
    }
   ],
   "source": [
    "from sklearn import preprocessing\n",
    "\n",
    "Xs = preprocessing.scale(X0)\n"
   ]
  },
  {
   "cell_type": "markdown",
   "metadata": {},
   "source": [
    "Now, use the LASSO method to fit a model.  Use cross validation to select the regularization level `alpha`.  Use `alpha` values logarithmically spaced from `1e-5` to `0.1`, and use 10 fold cross validation.  "
   ]
  },
  {
   "cell_type": "code",
   "execution_count": null,
   "metadata": {
    "collapsed": false
   },
   "outputs": [],
   "source": [
    "model = sklearn.linear_model.Lasso(warm_start=True)\n",
    "\n",
    "nalpha = 100\n",
    "alphas = np.logspace(-5,-1,nalpha)\n",
    "\n",
    "mse = np.zeros((nalpha,nfold))\n",
    "for ifold, ind in enumerate(kf.split(Xs)):\n",
    "    \n",
    "    Itr, Its = ind\n",
    "    X_tr = Xs[Itr,:]\n",
    "    y_tr = y0[Itr]\n",
    "    X_ts = Xs[Its,:]\n",
    "    y_ts = y0[Its]\n",
    "    \n",
    "    for ia, a in enumerate(alphas):\n",
    "        \n",
    "        model.alpha = a\n",
    "        model.fit(X_tr,y_tr)\n",
    "        \n",
    "        y_ts_pred = model.predict(X_ts)\n",
    "        mse[ia,ifold] = np.mean((y_ts_pred-y_ts)**2)"
   ]
  },
  {
   "cell_type": "markdown",
   "metadata": {},
   "source": [
    "Plot the mean test RSS and test RSS standard error with the `plt.errorbar` plot."
   ]
  },
  {
   "cell_type": "code",
   "execution_count": null,
   "metadata": {
    "collapsed": false
   },
   "outputs": [],
   "source": [
    "mse_mean = np.mean(mse,axis=1)\n",
    "mse_std = np.std(mse,axis=1)/np.sqrt(nfold-1)\n",
    "plt.errorbar(alphas,mse_mean,yerr=mse_std,fmt='-')\n",
    "plt.grid()"
   ]
  },
  {
   "cell_type": "markdown",
   "metadata": {},
   "source": [
    "Find the optimal `alpha` and mean test RSS using the one standard error rule."
   ]
  },
  {
   "cell_type": "code",
   "execution_count": 93,
   "metadata": {
    "collapsed": false
   },
   "outputs": [
    {
     "name": "stdout",
     "output_type": "stream",
     "text": [
      "Optimal alpha = 0.000010\n",
      "Mean Test RSS = 0.001489\n"
     ]
    }
   ],
   "source": [
    "imin = np.argmin(mse_mean)\n",
    "mse_tgt = mse_mean[imin] + mse_std[imin]\n",
    "\n",
    "I = np.where(mse_mean < mse_tgt)[0]\n",
    "iopt = I[0]\n",
    "alpha_opt = alphas[iopt]\n",
    "print(\"Optimal alpha = %f\" % alpha_opt)\n",
    "print(\"Mean Test RSS = %f\" % mse_mean[iopt])"
   ]
  },
  {
   "cell_type": "markdown",
   "metadata": {},
   "source": [
    "Using the optimal alpha, recompute the predicted response variable on the whole data.  Plot the predicted vs. actual values."
   ]
  },
  {
   "cell_type": "code",
   "execution_count": 94,
   "metadata": {
    "collapsed": false
   },
   "outputs": [
    {
     "data": {
      "image/png": "[encoded data removed]",
      "text/plain": [
       "<matplotlib.figure.Figure at 0x297ef6d3908>"
      ]
     },
     "metadata": {},
     "output_type": "display_data"
    }
   ],
   "source": [
    "model.alpha = alpha_opt\n",
    "model.fit(Xs,y0)\n",
    "yts_opt_pre = model.predict(X0)\n",
    "plt.scatter(yts_opt_pre,y0)\n",
    "plt.grid()"
   ]
  },
  {
   "cell_type": "markdown",
   "metadata": {},
   "source": [
    "## More Fun\n",
    "\n",
    "You can play around with this and many other neural data sets.  Two things that one can do to further improve the quality of fit are:\n",
    "* Use more time lags in the data.  Instead of predicting the hand motion from the spikes in the previous time, use the spikes in the last few delays.\n",
    "* Add a nonlinearity.  You should see that the predicted hand motion differs from the actual for high values of the actual.  You can improve the fit by adding a nonlinearity on the output.  A polynomial fit would work well here.\n",
    "\n",
    "You do not need to do these, but you can try them if you like."
   ]
  },
  {
   "cell_type": "code",
   "execution_count": null,
   "metadata": {
    "collapsed": true
   },
   "outputs": [],
   "source": []
  }
 ],
 "metadata": {
  "anaconda-cloud": {},
  "kernelspec": {
   "display_name": "Python [default]",
   "language": "python",
   "name": "python3"
  },
  "language_info": {
   "codemirror_mode": {
    "name": "ipython",
    "version": 3
   },
   "file_extension": ".py",
   "mimetype": "text/x-python",
   "name": "python",
   "nbconvert_exporter": "python",
   "pygments_lexer": "ipython3",
   "version": "3.5.2"
  }
 },
 "nbformat": 4,
 "nbformat_minor": 1
}
