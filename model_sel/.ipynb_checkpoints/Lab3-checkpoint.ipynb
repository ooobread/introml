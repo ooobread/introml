{
 "cells": [
  {
   "cell_type": "markdown",
   "metadata": {},
   "source": [
    "# Lab:  Model Selection for Neural Data\n",
    "\n",
    "Machine learning is a key tool for neuroscientists to understand how sensory and motor signals are encoded in the brain. In addition to improving our scientific understanding of neural phenomena, understanding neural encoding is critical for brain machine interfaces. In this lab, you will use model selection for performing some simple analysis on real neural signals. \n",
    "\n",
    "Before doing this lab, you should review the ideas in the [polynomial model selection demo](./polyfit.ipynb).  In addition to the concepts in that demo, you will learn to:\n",
    "* Load MATLAB data\n",
    "* Formulate models of different complexities using heuristic model selection\n",
    "* Fit a linear model for the different model orders\n",
    "* Select the optimal model via cross-validation\n",
    "\n",
    "The last stage of the lab uses LASSO estimation for model selection.  If you are doing this part of the lab, you should review the concepts in [LASSO demonstration](./prostate.ipynb) on the prostate cancer  dataset.  "
   ]
  },
  {
   "cell_type": "markdown",
   "metadata": {},
   "source": [
    "## Loading the data\n",
    "\n",
    "The data in this lab comes from neural recordings described in:\n",
    "\n",
    "<a href=\"http://jn.physiology.org/content/106/2/764.short\">\n",
    "Stevenson, Ian H., et al. \"Statistical assessment of the stability of neural movement representations.\" Journal of neurophysiology 106.2 (2011): 764-774</a>\n",
    "\n",
    "Neurons are the basic information processing units in the brain.  Neurons communicate with one another via *spikes* or *action potentials* which are brief events where voltage in the neuron rapidly rises then falls.  These spikes trigger the electro-chemical signals between one neuron and another.  In this experiment, the spikes were recorded from 196 neurons in the primary motor cortex (M1) of a monkey using an electrode array implanted onto the surface of a monkey's brain.  During the recording, the monkey performed several reaching tasks and the position and velocity of the hand was recorded as well.  \n",
    "\n",
    "The goal of the experiment is to try to *read the monkey's brain*:  That is, predict the hand motion from the neural signals from the motor cortex.\n",
    "\n",
    "We first load the basic packages."
   ]
  },
  {
   "cell_type": "code",
   "execution_count": 50,
   "metadata": {
    "collapsed": true
   },
   "outputs": [],
   "source": [
    "import numpy as np\n",
    "import matplotlib\n",
    "import matplotlib.pyplot as plt\n",
    "%matplotlib inline"
   ]
  },
  {
   "cell_type": "markdown",
   "metadata": {},
   "source": [
    "The full data is available on the CRCNS website  http://crcns.org/data-sets/movements/dream.  This website has a large number of great datasets and can be used for projects as well.  To make this lab easier, I have pre-processed the data slightly and placed it in the file `StevensonV2.mat`, which is a MATLAB file.  You will need to have this file downloaded in the directory you are working on.\n",
    "\n",
    "Since MATLAB is widely-used, `python` provides method for loading MATLAB `mat` files.  We can use these commands to load the data as follows."
   ]
  },
  {
   "cell_type": "code",
   "execution_count": 51,
   "metadata": {
    "collapsed": false
   },
   "outputs": [],
   "source": [
    "import scipy.io\n",
    "mat_dict = scipy.io.loadmat('StevensonV2.mat')"
   ]
  },
  {
   "cell_type": "markdown",
   "metadata": {},
   "source": [
    "The returned structure, `mat_dict`, is a dictionary with each of the MATLAB variables that were saved in the `.mat` file.  Use the `.keys()` method to list all the variables."
   ]
  },
  {
   "cell_type": "code",
   "execution_count": 52,
   "metadata": {
    "collapsed": false
   },
   "outputs": [
    {
     "data": {
      "text/plain": [
       "dict_keys(['time', '__version__', 'handPos', 'handVel', 'target', '__globals__', 'spikes', 'timeBase', 'targets', '__header__', 'startBinned', 'Publication', 'startBins'])"
      ]
     },
     "execution_count": 52,
     "metadata": {},
     "output_type": "execute_result"
    }
   ],
   "source": [
    "mat_dict.keys()"
   ]
  },
  {
   "cell_type": "markdown",
   "metadata": {},
   "source": [
    "We extract two variables, `spikes` and `handVel`, from the dictionary `mat_dict`, which represent the recorded spikes per neuron and the hand velocity.  We take the transpose of the spikes data so that it is in the form time bins $\\times$ number of neurons.  For the `handVel` data, we take the first component which is the motion in the $x$-direction."
   ]
  },
  {
   "cell_type": "code",
   "execution_count": 53,
   "metadata": {
    "collapsed": false
   },
   "outputs": [],
   "source": [
    "X0 = mat_dict['spikes'].T\n",
    "y0 = mat_dict['handVel'][0,:]"
   ]
  },
  {
   "cell_type": "markdown",
   "metadata": {},
   "source": [
    "The `spikes` matrix will be a `nt x nneuron` matrix where `nt` is the number of time bins and `nneuron` is the number of neurons.  Each entry `spikes[k,j]` is the number of spikes in time bin `k` from neuron `j`.  Use the `shape` method to find `nt` and `nneuron` and print the values."
   ]
  },
  {
   "cell_type": "code",
   "execution_count": 54,
   "metadata": {
    "collapsed": false
   },
   "outputs": [
    {
     "name": "stdout",
     "output_type": "stream",
     "text": [
      "The value of nt is 15536\n",
      "The value of nneuron is 196\n"
     ]
    }
   ],
   "source": [
    "nt = X0.shape[0]\n",
    "nneuron = X0.shape[1]\n",
    "print(\"The value of nt is {0}\".format(nt))\n",
    "print(\"The value of nneuron is {0}\".format(nneuron))"
   ]
  },
  {
   "cell_type": "markdown",
   "metadata": {},
   "source": [
    "Now extract the `time` variable from the `mat_dict` dictionary.  Reshape this to a 1D array with `nt` components.  Each entry `time[k]` is the starting time of the time bin `k`.  Find the sampling time `tsamp` which is the time between measurements, and `ttotal` which is the total duration of the recording."
   ]
  },
  {
   "cell_type": "code",
   "execution_count": 55,
   "metadata": {
    "collapsed": false
   },
   "outputs": [
    {
     "name": "stdout",
     "output_type": "stream",
     "text": [
      "776.75\n",
      "0.05\n",
      "[  12.591   12.641   12.691 ...,  789.241  789.291  789.341]\n"
     ]
    }
   ],
   "source": [
    "time = np.reshape(mat_dict['time'],nt)\n",
    "ttotal = time[-1] - time[0]\n",
    "tsamp = ttotal/(nt-1)\n",
    "print(ttotal)\n",
    "print(tsamp)\n",
    "print(time)"
   ]
  },
  {
   "cell_type": "markdown",
   "metadata": {},
   "source": [
    "## Linear fitting on all the neurons\n",
    "\n",
    "First divide the data into training and test with approximately half the samples in each.  Let `Xtr` and `ytr` denote the training data and `Xts` and `yts` denote the test data."
   ]
  },
  {
   "cell_type": "code",
   "execution_count": 56,
   "metadata": {
    "collapsed": false
   },
   "outputs": [],
   "source": [
    "Xtr = X0[:nt//2]\n",
    "ytr = y0[:nt//2]\n",
    "Xts = X0[nt//2:]\n",
    "yts = y0[nt//2:]"
   ]
  },
  {
   "cell_type": "markdown",
   "metadata": {},
   "source": [
    "Now, we begin by trying to fit a simple linear model using *all* the neurons as predictors.  To this end, use the `sklearn.linear_model` package to create a regression object, and fit the linear model to the training data."
   ]
  },
  {
   "cell_type": "code",
   "execution_count": 57,
   "metadata": {
    "collapsed": false
   },
   "outputs": [],
   "source": [
    "import sklearn.linear_model\n",
    "regr = sklearn.linear_model.LinearRegression()\n",
    "regr.fit(Xtr,ytr)\n",
    "yts_pre = regr.predict(Xts)"
   ]
  },
  {
   "cell_type": "markdown",
   "metadata": {},
   "source": [
    "Measure and print the normalized RSS on the test data.  "
   ]
  },
  {
   "cell_type": "code",
   "execution_count": 58,
   "metadata": {
    "collapsed": false
   },
   "outputs": [
    {
     "name": "stdout",
     "output_type": "stream",
     "text": [
      "Normalized RSS=4999054779645876502528.000000\n"
     ]
    }
   ],
   "source": [
    "RSS = np.mean((yts_pre-yts)**2)/(np.std(yts)**2)\n",
    "print(\"Normalized RSS={0:f}\".format(RSS))"
   ]
  },
  {
   "cell_type": "markdown",
   "metadata": {},
   "source": [
    "You should see that the test error is enormous -- the model does not generalize to the test data at all. "
   ]
  },
  {
   "cell_type": "markdown",
   "metadata": {},
   "source": [
    "## Linear Fitting  with Heuristic Model Selection\n",
    "\n",
    "The above shows that we need a way to reduce the model complexity.  One simple idea is to select only the neurons that individually have a high correlation with the output.   \n",
    "\n",
    "Write code which computes the coefficient of determination, $R^2_k$, for each neuron $k$.  Plot the $R^2_k$ values.  \n",
    "\n",
    "You can use a for loop over each neuron, but if you want to make efficient code try to avoid the for loop and use [python broadcasting](../Basics/numpy_axes_broadcasting.ipynb)."
   ]
  },
  {
   "cell_type": "code",
   "execution_count": 59,
   "metadata": {
    "collapsed": false
   },
   "outputs": [
    {
     "data": {
      "image/png": "[encoded data removed]",
      "text/plain": [
       "<matplotlib.figure.Figure at 0x297ef9c5518>"
      ]
     },
     "metadata": {},
     "output_type": "display_data"
    }
   ],
   "source": [
    "ybar = np.mean(y0)\n",
    "syy = np.mean((y0-ybar)**2)\n",
    "Rsq = np.zeros(nneuron)\n",
    "for i in range(nneuron):\n",
    "    xbar = np.mean(X0[:,i])\n",
    "    sxx = np.mean((X0[:,i]-xbar)**2)\n",
    "    sxy = np.mean((X0[:,i]-xbar)*(y0-ybar))\n",
    "    if sxx == 0: Rsq[i] = 0\n",
    "    else: Rsq[i] = sxy**2/sxx/syy\n",
    "    #print(\"{0:2d} {1:f}\".format(i,Rsq[i]))\n",
    "plt.stem(Rsq)\n",
    "plt.grid()"
   ]
  },
  {
   "cell_type": "markdown",
   "metadata": {},
   "source": [
    "We see that many neurons have low correlation and can probably be discarded from the model.    \n",
    "\n",
    "Use the `np.argsort()` command to find the indices of the `d=100` neurons with the highest $R^2_k$ value.  Put the `d` indices into an array `Isel`.  Print the indices of the neurons with the 10 highest correlations."
   ]
  },
  {
   "cell_type": "code",
   "execution_count": 60,
   "metadata": {
    "collapsed": false,
    "scrolled": false
   },
   "outputs": [
    {
     "name": "stdout",
     "output_type": "stream",
     "text": [
      "The neurons with the ten highest R^2 values =  [193  98 195 120  67 136 153 152  58 192]\n"
     ]
    }
   ],
   "source": [
    "d = 100  # Number of neurons to useplt.plot(t,ytest)\n",
    "#plt.plot(time//2,yts_pre)\n",
    "#plt.show()\n",
    "sort = np.argsort(-Rsq)\n",
    "Isel = sort[:d]\n",
    "print(\"The neurons with the ten highest R^2 values = \",(np.argsort(Rsq)[-10:]))"
   ]
  },
  {
   "cell_type": "markdown",
   "metadata": {},
   "source": [
    "Fit a model using only the `d` neurons selected in the previous step and print both the test RSS per sample and the normalized test RSS."
   ]
  },
  {
   "cell_type": "code",
   "execution_count": 61,
   "metadata": {
    "collapsed": false
   },
   "outputs": [
    {
     "name": "stdout",
     "output_type": "stream",
     "text": [
      "Normalized RSS=0.496102\n",
      "RSS per sample=0.001572\n"
     ]
    }
   ],
   "source": [
    "regr.fit(Xtr[:,Isel],ytr)\n",
    "yts_pre = regr.predict(Xts[:,Isel])\n",
    "RSS_norm = np.mean((yts_pre-yts)**2)/(np.std(yts)**2)\n",
    "RSS_test = np.mean((yts_pre-yts)**2)\n",
    "print(\"Normalized RSS={0:f}\".format(RSS_norm))\n",
    "print(\"RSS per sample={0:f}\".format(RSS_test))"
   ]
  },
  {
   "cell_type": "markdown",
   "metadata": {},
   "source": [
    "Create a scatter plot of the predicted vs. actual hand motion on the test data.  On the same plot, plot the line where `yts_hat = yts`."
   ]
  },
  {
   "cell_type": "code",
   "execution_count": 62,
   "metadata": {
    "collapsed": false
   },
   "outputs": [
    {
     "data": {
      "image/png": "[encoded data removed]",
      "text/plain": [
       "<matplotlib.figure.Figure at 0x297ef97cfd0>"
      ]
     },
     "metadata": {},
     "output_type": "display_data"
    }
   ],
   "source": [
    "plt.plot([-0.25,0.125],[-0.25,0.125],'r-',linewidth=3)\n",
    "plt.scatter(yts_pre,yts)\n",
    "plt.grid()"
   ]
  },
  {
   "cell_type": "markdown",
   "metadata": {},
   "source": [
    "## Using K-fold cross validation for the optimal number of neurons\n",
    "\n",
    "In the above, we fixed `d=100`.  We can use cross validation to try to determine the best number of neurons to use.  Try model orders with `d=10,20,...,190`.  For each value of `d`, use K-fold validation with 10 folds to estimate the test RSS.  For a data set this size, each fold will take a few seconds to compute, so it may be useful to print the progress."
   ]
  },
  {
   "cell_type": "code",
   "execution_count": 40,
   "metadata": {
    "collapsed": false
   },
   "outputs": [
    {
     "name": "stdout",
     "output_type": "stream",
     "text": [
      "0.00177387622522\n",
      "0.00164102849992\n",
      "0.00162906202035\n",
      "0.00155719021441\n",
      "0.00153487523707\n",
      "0.00150522394551\n",
      "0.00150218101373\n",
      "0.00147719424536\n",
      "0.0014630197125\n",
      "0.00144391950902\n",
      "0.00143399281853\n",
      "0.00143470115525\n",
      "0.00142760226236\n",
      "0.00142420722421\n",
      "0.00142453940409\n",
      "0.00142600006834\n",
      "0.00142796706642\n",
      "0.00143326958741\n",
      "0.00143215991851\n",
      "0.00178772935402\n",
      "0.00164109511586\n",
      "0.00162210661905\n",
      "0.00155685505422\n",
      "0.00150913878679\n",
      "0.00146819567904\n",
      "0.00144856290543\n",
      "0.0014469025532\n",
      "0.00142412066196\n",
      "0.00140107849202\n",
      "0.00139522300433\n",
      "0.00138969551743\n",
      "0.00138229070789\n",
      "0.00138379954574\n",
      "0.00138408255449\n",
      "0.00138711868967\n",
      "0.00138904163167\n",
      "0.00138768491647\n",
      "0.00138904356765\n",
      "0.0019865963933\n",
      "0.00184270821232\n",
      "0.0018205074829\n",
      "0.00177039310586\n",
      "0.00173394476532\n",
      "0.00166259098802\n",
      "0.0016379894124\n",
      "0.0016204965487\n",
      "0.00162644826437\n",
      "0.00160057021857\n",
      "0.00158607850529\n",
      "0.00158868063297\n",
      "0.00158262458878\n",
      "0.00157484812852\n",
      "0.00157592045473\n",
      "0.00157213236067\n",
      "0.00157304089418\n",
      "0.00157237259744\n",
      "0.00156665790806\n",
      "0.00181843187\n",
      "0.00171001244372\n",
      "0.00169285658819\n",
      "0.00163188843948\n",
      "0.00158873170959\n",
      "0.00153539688093\n",
      "0.00153788152431\n",
      "0.00153184298502\n",
      "0.00152790584441\n",
      "0.00151224917821\n",
      "0.00150265889072\n",
      "0.00149897211963\n",
      "0.00148916206583\n",
      "0.00148265897543\n",
      "0.00148607399761\n",
      "0.00148160979145\n",
      "0.00148117407931\n",
      "0.00147996253873\n",
      "0.00147927923498\n",
      "0.00190723824668\n",
      "0.00175048373342\n",
      "0.00173943620718\n",
      "0.0016674170331\n",
      "0.00162932034237\n",
      "0.00158052714296\n",
      "0.00156313468814\n",
      "0.00153409127738\n",
      "0.00152364043834\n",
      "0.00151421490227\n",
      "0.00150530972958\n",
      "0.00151489563563\n",
      "0.00150939525571\n",
      "0.00150183354742\n",
      "0.00150187240394\n",
      "0.0014989815973\n",
      "0.00150275598227\n",
      "0.00150140684783\n",
      "0.00149481771236\n",
      "0.00189731726931\n",
      "0.0017751991452\n",
      "0.0017537385673\n",
      "0.00168045598558\n",
      "0.00162599151912\n",
      "0.00160154196795\n",
      "0.00157306115714\n",
      "0.00154931335772\n",
      "0.00152282222071\n",
      "0.00148006995857\n",
      "0.00148158515706\n",
      "0.00148126062895\n",
      "0.00147208360771\n",
      "0.00146943176789\n",
      "0.00147098749704\n",
      "0.00147167252404\n",
      "0.00147154045381\n",
      "0.00147262807435\n",
      "0.00147341802054\n",
      "0.00173976236812\n",
      "0.00163824659521\n",
      "0.00162297024693\n",
      "0.00156038190066\n",
      "0.00153773469394\n",
      "0.00150270716138\n",
      "0.00149377722925\n",
      "0.00148163121601\n",
      "0.00147190308618\n",
      "0.00145651365877\n",
      "0.00144879431098\n",
      "0.00144196855512\n",
      "0.00143627144234\n",
      "0.00142770810594\n",
      "0.00143199334556\n",
      "0.00142445065369\n",
      "0.00142525071698\n",
      "0.00142412749107\n",
      "0.00142163387508\n",
      "0.00206178487866\n",
      "0.00191670271578\n",
      "0.00189643567081\n",
      "0.00180175472885\n",
      "0.00176061764998\n",
      "0.00171275136473\n",
      "0.00169255608395\n",
      "0.00166355021348\n",
      "0.00164655705128\n",
      "0.00162941983887\n",
      "0.00162060658812\n",
      "0.00162326994627\n",
      "0.00162639451599\n",
      "0.00162665627681\n",
      "0.00162895395628\n",
      "0.00162947973858\n",
      "0.00162971998925\n",
      "0.00162968015171\n",
      "0.00162866960803\n",
      "0.00189677898979\n",
      "0.00178593267035\n",
      "0.0017701347755\n",
      "0.00171659982273\n",
      "0.00166622929435\n",
      "0.0015771306766\n",
      "0.00157170535972\n",
      "0.00157769717024\n",
      "0.00156344931016\n",
      "0.00153910378881\n",
      "0.00154039600466\n",
      "0.00153796283846\n",
      "0.00153164899677\n",
      "0.00153528110141\n",
      "0.00153570079836\n",
      "0.00153835743489\n",
      "0.00154058156891\n",
      "0.00154336880112\n",
      "0.00154353318263\n",
      "0.00179810929559\n",
      "0.00166976660088\n",
      "0.00166433804595\n",
      "0.00159707987234\n",
      "0.00154925104683\n",
      "0.00149843168088\n",
      "0.00147587120301\n",
      "0.0014547597309\n",
      "0.0014460067075\n",
      "0.00142550731823\n",
      "0.00142697705122\n",
      "0.00142660010432\n",
      "0.00141898075107\n",
      "0.00142724823793\n",
      "0.00143097400744\n",
      "0.00143115943621\n",
      "0.00143004634361\n",
      "0.00142930337723\n",
      "0.00142560873277\n"
     ]
    }
   ],
   "source": [
    "import sklearn.model_selection \n",
    "\n",
    "# Create a k-fold object\n",
    "nfold = 10\n",
    "kf = sklearn.model_selection.KFold(n_splits=nfold,shuffle=True)\n",
    "\n",
    "# Model orders to be tested\n",
    "dtest = np.arange(10,200,10)\n",
    "nd = len(dtest)\n",
    "\n",
    "# Loop over the folds\n",
    "RSSts = np.zeros((nd,nfold))\n",
    "for isplit, Ind in enumerate(kf.split(X0)):\n",
    "    \n",
    "    # Get the training data in the split\n",
    "    Itr, Its = Ind\n",
    "    xtr = X0[Itr]\n",
    "    ytr = y0[Itr]\n",
    "    xts = X0[Its]\n",
    "    yts = y0[Its]\n",
    "    \n",
    "    for it, d in enumerate(dtest):\n",
    "        \n",
    "        # Fit data on training data\n",
    "        regr.fit(xtr[:,sort[:d]],ytr)\n",
    "        # Measures RSS on test data\n",
    "        yhat = regr.predict(xts[:,sort[:d]])\n",
    "        RSSts[it,isplit] = np.mean((yhat-yts)**2)"
   ]
  },
  {
   "cell_type": "markdown",
   "metadata": {},
   "source": [
    "Compute the RSS test mean and standard error and plot them as a function of the model order `d` using the `plt.errorbar()` method. "
   ]
  },
  {
   "cell_type": "code",
   "execution_count": 45,
   "metadata": {
    "collapsed": false,
    "scrolled": true
   },
   "outputs": [
    {
     "data": {
      "image/png": "[encoded data removed]",
      "text/plain": [
       "<matplotlib.figure.Figure at 0x297ef8d62e8>"
      ]
     },
     "metadata": {},
     "output_type": "display_data"
    }
   ],
   "source": [
    "RSS_mean = np.mean(RSSts,axis=1)\n",
    "RSS_std = np.std(RSSts,axis=1)/np.sqrt(nfold-1)\n",
    "plt.errorbar(dtest, RSS_mean, yerr=RSS_std, fmt='-o')\n",
    "plt.xlabel('Model order')\n",
    "plt.ylabel('Test RSS')\n",
    "plt.grid()"
   ]
  },
  {
   "cell_type": "markdown",
   "metadata": {},
   "source": [
    "Find the optimal order using the one standard error rule. Print the optimal value of `d` and the mean test RSS per sample at the optimal `d`.  "
   ]
  },
  {
   "cell_type": "code",
   "execution_count": 48,
   "metadata": {
    "collapsed": false
   },
   "outputs": [
    {
     "name": "stdout",
     "output_type": "stream",
     "text": [
      "Optimal d = 100\n"
     ]
    }
   ],
   "source": [
    "imin = np.argmin(RSS_mean)\n",
    "RSS_tgt = RSS_mean[imin] + RSS_std[imin]\n",
    "alpha_min = alphas[imin]\n",
    "\n",
    "I = np.where(RSS_mean < RSS_tgt)[0]\n",
    "iopt = I[0]\n",
    "dopt = dtest[iopt]\n",
    "print(\"Optimal d = %d\" % dopt)\n",
    "print(\"Mean test RSS per sample at the optimal = %f\" % np,mean())"
   ]
  },
  {
   "cell_type": "markdown",
   "metadata": {},
   "source": [
    "## Using LASSO regression\n",
    "\n",
    "Instead of using the above heuristic to select the variables, we can use LASSO regression.  \n",
    "\n",
    "First use the `preprocessing.scale` method to standardize the data matrix `X0`.  Store the standardized values in `Xs`.  You do not need to standardize the response.  For this data, the `scale` routine may throw a warning that you are converting data types.  That is fine."
   ]
  },
  {
   "cell_type": "code",
   "execution_count": 17,
   "metadata": {
    "collapsed": false
   },
   "outputs": [
    {
     "name": "stderr",
     "output_type": "stream",
     "text": [
      "C:\\Users\\lin_w\\Anaconda3\\lib\\site-packages\\sklearn\\utils\\validation.py:444: DataConversionWarning: Data with input dtype uint8 was converted to float64 by the scale function.\n",
      "  warnings.warn(msg, DataConversionWarning)\n"
     ]
    }
   ],
   "source": [
    "from sklearn import preprocessing\n",
    "\n",
    "Xs = preprocessing.scale(X0)\n"
   ]
  },
  {
   "cell_type": "markdown",
   "metadata": {},
   "source": [
    "Now, use the LASSO method to fit a model.  Use cross validation to select the regularization level `alpha`.  Use `alpha` values logarithmically spaced from `1e-5` to `0.1`, and use 10 fold cross validation.  "
   ]
  },
  {
   "cell_type": "code",
   "execution_count": 25,
   "metadata": {
    "collapsed": false
   },
   "outputs": [],
   "source": [
    "model = sklearn.linear_model.Lasso(warm_start=True)\n",
    "\n",
    "nalpha = 10\n",
    "alphas = np.logspace(-5,-1,nalpha)\n",
    "\n",
    "mse = np.zeros((nalpha,nfold))\n",
    "for ifold, ind in enumerate(kf.split(Xs)):\n",
    "    \n",
    "    Itr, Its = ind\n",
    "    X_tr = Xs[Itr,:]\n",
    "    y_tr = y0[Itr]\n",
    "    X_ts = Xs[Its,:]\n",
    "    y_ts = y0[Its]\n",
    "    \n",
    "    for ia, a in enumerate(alphas):\n",
    "        \n",
    "        model.alpha = a\n",
    "        model.fit(X_tr,y_tr)\n",
    "        \n",
    "        y_ts_pred = model.predict(X_ts)\n",
    "        mse[ia,ifold] = np.mean((y_ts_pred-y_ts)**2)"
   ]
  },
  {
   "cell_type": "markdown",
   "metadata": {},
   "source": [
    "Plot the mean test RSS and test RSS standard error with the `plt.errorbar` plot."
   ]
  },
  {
   "cell_type": "code",
   "execution_count": 31,
   "metadata": {
    "collapsed": false
   },
   "outputs": [
    {
     "data": {
      "image/png": "[encoded data removed]",
      "text/plain": [
       "<matplotlib.figure.Figure at 0x297ef7c0c88>"
      ]
     },
     "metadata": {},
     "output_type": "display_data"
    }
   ],
   "source": [
    "mse_mean = np.mean(mse,axis=1)\n",
    "mse_std = np.std(mse,axis=1)/np.sqrt(nfold-1)\n",
    "plt.errorbar(alphas,mse_mean,yerr=mse_std,fmt='-')\n",
    "plt.grid()"
   ]
  },
  {
   "cell_type": "markdown",
   "metadata": {},
   "source": [
    "Find the optimal `alpha` and mean test RSS using the one standard error rule."
   ]
  },
  {
   "cell_type": "code",
   "execution_count": 28,
   "metadata": {
    "collapsed": false
   },
   "outputs": [
    {
     "name": "stdout",
     "output_type": "stream",
     "text": [
      "Optimal alpha = 0.000658\n"
     ]
    }
   ],
   "source": [
    "imin = np.argmin(mse_mean)\n",
    "mse_tgt = mse_mean[imin] + mse_std[imin]\n",
    "alpha_min = alphas[imin]\n",
    "\n",
    "I = np.where(mse_mean < mse_tgt)[0]\n",
    "iopt = I[-1]\n",
    "alpha_opt = alphas[iopt]\n",
    "print(\"Optimal alpha = %f\" % alpha_opt)"
   ]
  },
  {
   "cell_type": "markdown",
   "metadata": {},
   "source": [
    "Using the optimal alpha, recompute the predicted response variable on the whole data.  Plot the predicted vs. actual values."
   ]
  },
  {
   "cell_type": "code",
   "execution_count": 30,
   "metadata": {
    "collapsed": false
   },
   "outputs": [
    {
     "data": {
      "image/png": "[encoded data removed]",
      "text/plain": [
       "<matplotlib.figure.Figure at 0x297ef371940>"
      ]
     },
     "metadata": {},
     "output_type": "display_data"
    }
   ],
   "source": [
    "model.alpha = alpha_opt\n",
    "model.fit(Xs,y0)\n",
    "yts_opt_pre = model.predict(X0)\n",
    "plt.scatter(yts_opt_pre,y0)\n",
    "plt.grid()"
   ]
  },
  {
   "cell_type": "markdown",
   "metadata": {},
   "source": [
    "## More Fun\n",
    "\n",
    "You can play around with this and many other neural data sets.  Two things that one can do to further improve the quality of fit are:\n",
    "* Use more time lags in the data.  Instead of predicting the hand motion from the spikes in the previous time, use the spikes in the last few delays.\n",
    "* Add a nonlinearity.  You should see that the predicted hand motion differs from the actual for high values of the actual.  You can improve the fit by adding a nonlinearity on the output.  A polynomial fit would work well here.\n",
    "\n",
    "You do not need to do these, but you can try them if you like."
   ]
  }
 ],
 "metadata": {
  "anaconda-cloud": {},
  "kernelspec": {
   "display_name": "Python [default]",
   "language": "python",
   "name": "python3"
  },
  "language_info": {
   "codemirror_mode": {
    "name": "ipython",
    "version": 3
   },
   "file_extension": ".py",
   "mimetype": "text/x-python",
   "name": "python",
   "nbconvert_exporter": "python",
   "pygments_lexer": "ipython3",
   "version": "3.5.2"
  }
 },
 "nbformat": 4,
 "nbformat_minor": 1
}
